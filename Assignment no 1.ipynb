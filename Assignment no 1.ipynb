{
 "cells": [
  {
   "cell_type": "code",
   "execution_count": 1,
   "id": "d25c8e7c",
   "metadata": {},
   "outputs": [
    {
     "name": "stdout",
     "output_type": "stream",
     "text": [
      "Twinkle,twinkle,litle,star\n",
      "        How i wounder what you are!\n",
      "                Up above the world so high\n",
      "                Like a diamond in the sky\n",
      "Twinkle,twinkle,litle,star\n",
      "        How i wounder what you are!\n"
     ]
    }
   ],
   "source": [
    "# QUESTION NO 1 \n",
    "print(\"Twinkle,twinkle,litle,star\")\n",
    "print(\"        How i wounder what you are!\")\n",
    "print(\"                Up above the world so high\")\n",
    "print(\"                Like a diamond in the sky\")\n",
    "print(\"Twinkle,twinkle,litle,star\")\n",
    "print(\"        How i wounder what you are!\")"
   ]
  },
  {
   "cell_type": "code",
   "execution_count": 2,
   "id": "c0273d05",
   "metadata": {},
   "outputs": [
    {
     "name": "stdout",
     "output_type": "stream",
     "text": [
      "Python version\n",
      "3.8.8 (default, Apr 13 2021, 15:08:03) [MSC v.1916 64 bit (AMD64)]\n",
      "version info\n",
      "sys.version_info(major=3, minor=8, micro=8, releaselevel='final', serial=0)\n"
     ]
    }
   ],
   "source": [
    "#QUESTION NO 2 \n",
    "import sys\n",
    "print(\"Python version\")\n",
    "print(sys.version)\n",
    "print(\"version info\")\n",
    "print(sys.version_info)\n"
   ]
  },
  {
   "cell_type": "code",
   "execution_count": 3,
   "id": "52696f38",
   "metadata": {},
   "outputs": [
    {
     "name": "stdout",
     "output_type": "stream",
     "text": [
      "current date is \n",
      "22-01-01 \n",
      "current time is \n",
      "16:29:41\n"
     ]
    }
   ],
   "source": [
    "# QUESTION NO 3\n",
    "import datetime\n",
    "now= datetime.datetime.now()\n",
    "print(\"current date is \")\n",
    "print(now.strftime(\"%y-%m-%d \"))\n",
    "print(\"current time is \")\n",
    "print(now.strftime(\"%H:%M:%S\"))"
   ]
  },
  {
   "cell_type": "code",
   "execution_count": 4,
   "id": "5518d0b2",
   "metadata": {},
   "outputs": [
    {
     "name": "stdout",
     "output_type": "stream",
     "text": [
      "Enter the value of radius :3.42\n",
      "The area of circle is  36.7500888\n"
     ]
    }
   ],
   "source": [
    "# QUESTION NO 4\n",
    "radius = float(input(\"Enter the value of radius :\"))\n",
    "area = 3.142*radius*radius\n",
    "print(\"The area of circle is \",area)"
   ]
  },
  {
   "cell_type": "code",
   "execution_count": 8,
   "id": "2de6faba",
   "metadata": {},
   "outputs": [
    {
     "name": "stdout",
     "output_type": "stream",
     "text": [
      "Enter the first name :sharia\n",
      "Enter the last name :muhammad\n",
      "muhammad sharia\n"
     ]
    }
   ],
   "source": [
    "# QUESTION NO 5\n",
    "x = input(\"Enter the first name :\")\n",
    "y = input(\"Enter the last name :\")\n",
    "print( y + \" \" + x)"
   ]
  },
  {
   "cell_type": "code",
   "execution_count": 10,
   "id": "365a2eff",
   "metadata": {},
   "outputs": [
    {
     "name": "stdout",
     "output_type": "stream",
     "text": [
      "Enter the first number :4\n",
      "Enter the second number :5\n",
      "9\n"
     ]
    }
   ],
   "source": [
    "# QUESTION NO 6\n",
    "x = int(input(\"Enter the first number :\"))\n",
    "y = int(input(\"Enter the second number :\"))\n",
    "z = x+y\n",
    "print(z)"
   ]
  },
  {
   "cell_type": "code",
   "execution_count": null,
   "id": "2413c5eb",
   "metadata": {},
   "outputs": [],
   "source": []
  }
 ],
 "metadata": {
  "kernelspec": {
   "display_name": "Python 3",
   "language": "python",
   "name": "python3"
  },
  "language_info": {
   "codemirror_mode": {
    "name": "ipython",
    "version": 3
   },
   "file_extension": ".py",
   "mimetype": "text/x-python",
   "name": "python",
   "nbconvert_exporter": "python",
   "pygments_lexer": "ipython3",
   "version": "3.8.8"
  }
 },
 "nbformat": 4,
 "nbformat_minor": 5
}
